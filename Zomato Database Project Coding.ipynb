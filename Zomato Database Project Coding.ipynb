{
 "cells": [
  {
   "cell_type": "markdown",
   "metadata": {},
   "source": [
    "Importing Necessary Libaries such as Faker, random and mqlSql "
   ]
  },
  {
   "cell_type": "code",
   "execution_count": 1,
   "metadata": {},
   "outputs": [],
   "source": [
    "import mysql.connector\n",
    "import random\n",
    "from faker import Faker\n",
    "fake = Faker([\"en_IN\"])"
   ]
  },
  {
   "cell_type": "markdown",
   "metadata": {},
   "source": [
    "Creation of Class: database\n",
    "This class provides methods to connect, create tables, and insert data into a MySQL database"
   ]
  },
  {
   "cell_type": "code",
   "execution_count": 5,
   "metadata": {},
   "outputs": [],
   "source": [
    "class database:\n",
    "  def __init__(self, host, user, password, port, database):\n",
    "    self.host = host\n",
    "    self.user = user\n",
    "    self.password = password\n",
    "    self.port = port\n",
    "    self.database = database\n",
    "    self.conn = None\n",
    "    self.cursor = None\n",
    "  def connect(self):\n",
    "    self.conn = mysql.connector.connect(host = self.host, user = self.user, password = self.password, port = self.port, database = self.database)\n",
    "    self.cursor = self.conn.cursor()\n",
    "    print(\"connection success\")\n",
    "  def create_table(self, table_query):\n",
    "    self.cursor.execute(table_query)\n",
    "    self.conn.commit()\n",
    "    print(\"table creation successful\")\n",
    "  def insert_list_of_tuple(self, insert_query, list_tuple):\n",
    "    self.cursor.executemany(insert_query, list_tuple)\n",
    "    self.conn.commit()\n",
    "    print(\"insertion successful\")"
   ]
  },
  {
   "cell_type": "markdown",
   "metadata": {},
   "source": [
    "Connection to MySQL database(parameters)"
   ]
  },
  {
   "cell_type": "code",
   "execution_count": 14,
   "metadata": {},
   "outputs": [
    {
     "name": "stdout",
     "output_type": "stream",
     "text": [
      "connection success\n"
     ]
    }
   ],
   "source": [
    "config = {\"host\":\"gateway01.ap-southeast-1.prod.aws.tidbcloud.com\", \"user\":\"2Sq2DQiR5GcBS1k.root\", \"port\":4000, \"password\":\"AoyZ0L33qUgeKtFp\", \"database\":\"Zomato\"}\n",
    "db_obj = database(**config)\n",
    "db_obj.connect()"
   ]
  },
  {
   "cell_type": "markdown",
   "metadata": {},
   "source": [
    "Creation of Customers Table"
   ]
  },
  {
   "cell_type": "code",
   "execution_count": 8,
   "metadata": {},
   "outputs": [
    {
     "name": "stdout",
     "output_type": "stream",
     "text": [
      "table creation successful\n"
     ]
    }
   ],
   "source": [
    "Customer = \"CREATE TABLE IF NOT EXISTS Customers (customer_id INT AUTO_INCREMENT PRIMARY KEY, name VARCHAR(255), email VARCHAR(255), phone VARCHAR(20), location VARCHAR(255),signup_date DATE, is_premium BOOLEAN, preferred_cuisine VARCHAR(50),total_orders INT,average_rating FLOAT )\"\n",
    "db_obj.create_table(Customer)"
   ]
  },
  {
   "cell_type": "markdown",
   "metadata": {},
   "source": [
    "Insertion of Values into Customers Table"
   ]
  },
  {
   "cell_type": "code",
   "execution_count": 9,
   "metadata": {},
   "outputs": [
    {
     "name": "stdout",
     "output_type": "stream",
     "text": [
      "insertion successful\n"
     ]
    }
   ],
   "source": [
    "Customer_table = []\n",
    "for i in range(500):\n",
    "  Customer_table.append((fake.name(),fake.unique.email(),fake.unique.phone_number(),fake.address(),fake.date_between(start_date='-2y', end_date='today'),fake.boolean(),random.choice(['Chinese', 'Italian', 'Mexican', 'American','Punjabi','Kashmiri','South Indian','Andhra','Sindhi','Continental','Japanese']),random.randint(1, 50),round(random.uniform(1, 5), 1)))\n",
    "IC = \"INSERT INTO Customers (name, email, phone, location, signup_date, is_premium, preferred_cuisine, total_orders, average_rating)VALUES (%s, %s, %s, %s, %s, %s, %s, %s, %s)\"\n",
    "db_obj.insert_list_of_tuple(IC, Customer_table)  "
   ]
  },
  {
   "cell_type": "markdown",
   "metadata": {},
   "source": [
    "Creation of Restaurants Table"
   ]
  },
  {
   "cell_type": "code",
   "execution_count": 11,
   "metadata": {},
   "outputs": [
    {
     "name": "stdout",
     "output_type": "stream",
     "text": [
      "table creation successful\n"
     ]
    }
   ],
   "source": [
    "Restaurant =\" CREATE TABLE IF NOT EXISTS Restaurants (restaurant_id INT AUTO_INCREMENT PRIMARY KEY,name VARCHAR(255),cuisine_type VARCHAR(50),location VARCHAR(255),owner_name VARCHAR(255), average_delivery_time INT,contact_number VARCHAR(20),rating FLOAT,total_orders INT, is_active BOOLEAN)\"\n",
    "db_obj.create_table(Restaurant)"
   ]
  },
  {
   "cell_type": "markdown",
   "metadata": {},
   "source": [
    "Insertion of Values into Restaurants Table"
   ]
  },
  {
   "cell_type": "code",
   "execution_count": 12,
   "metadata": {},
   "outputs": [
    {
     "name": "stdout",
     "output_type": "stream",
     "text": [
      "insertion successful\n"
     ]
    }
   ],
   "source": [
    "Restaurant_table = []\n",
    "for i in range(150):\n",
    "  Restaurant_table.append((random.choice([\"Saravana Bhavan\", \"Sagar Ratna\", \"Dosa Plaza\", \"Ananda Bhavan\", \"MTR\", \"Adyar Ananda Bhavan\", \"Murugan Idli Shop\", \"Udupi Krishna Bhavan\", \"Madras Cafe\", \"Namma Veedu Vasanta Bhavan\",\n",
    "\"Din Tai Fung\", \"Hakkasan\", \"Panda Express\", \"Mr. Chow\", \"Chowking\",\"Little Sheep Hot Pot\", \"P.F. Chang's\", \"Tai Hing\", \"Haidilao Hot Pot\", \"Crystal Jade\",\"Nobu\", \"Sushi Zanmai\", \"Genki Sushi\", \"Sukiyabashi Jiro\", \"Ippudo\", \"Ichiran Ramen\", \"Marugame Udon\", \"Tetsuya’s\", \"Kura Sushi\", \"Raku\",\"McDonald's\", \"Burger King\", \"Wendy's\", \"KFC\", \"Shake Shack\", \"In-N-Out Burger\", \"Five Guys\", \"Denny's\", \"Chili's\", \"Buffalo Wild Wings\", \"Chipotle\", \"Taco Bell\", \"Qdoba\", \"El Pollo Loco\", \"Del Taco\", \"Cantina Laredo\", \"Moe’s Southwest Grill\", \"On the Border\", \"Rosa Mexicano\", \"Chuy’s\"\n",
    "]),random.choice(['Chinese', 'Italian', 'Mexican', 'American','Punjabi','Kashmiri','South Indian','Andhra','Sindhi','Continental','Japanese']),fake.address(),fake.name(),random.randint(15, 60),fake.phone_number(),round(random.uniform(1, 5), 1),random.randint(10, 1000),fake.boolean()))\n",
    "IR = \"INSERT INTO Restaurants (name, cuisine_type, location, owner_name, average_delivery_time, contact_number, rating, total_orders, is_active) VALUES (%s, %s, %s, %s, %s, %s, %s, %s, %s)\"\n",
    "db_obj.insert_list_of_tuple(IR, Restaurant_table)  "
   ]
  },
  {
   "cell_type": "markdown",
   "metadata": {},
   "source": [
    "Creation of Orders Table"
   ]
  },
  {
   "cell_type": "code",
   "execution_count": 15,
   "metadata": {},
   "outputs": [
    {
     "name": "stdout",
     "output_type": "stream",
     "text": [
      "table creation successful\n"
     ]
    }
   ],
   "source": [
    "Order = \"\"\"\n",
    "CREATE TABLE IF NOT EXISTS Orders (\n",
    "    order_id INT AUTO_INCREMENT PRIMARY KEY, \n",
    "    customer_id INT, \n",
    "    restaurant_id INT, \n",
    "    order_date DATETIME,\n",
    "    delivery_time DATETIME,\n",
    "    status VARCHAR(50),\n",
    "    total_amount FLOAT,\n",
    "    payment_mode VARCHAR(50), \n",
    "    discount_applied FLOAT, \n",
    "    feedback_rating FLOAT, \n",
    "    FOREIGN KEY (customer_id) REFERENCES Customers(customer_id),\n",
    "    FOREIGN KEY (restaurant_id) REFERENCES Restaurants(restaurant_id)\n",
    ");\n",
    "\"\"\"\n",
    "db_obj.create_table(Order)"
   ]
  },
  {
   "cell_type": "markdown",
   "metadata": {},
   "source": [
    "Insertion of Values into Orders Table"
   ]
  },
  {
   "cell_type": "code",
   "execution_count": 16,
   "metadata": {},
   "outputs": [
    {
     "name": "stdout",
     "output_type": "stream",
     "text": [
      "insertion successful\n"
     ]
    }
   ],
   "source": [
    "Order_table = []\n",
    "for i in range(700):\n",
    "  Order_table.append(((\n",
    "                random.randint(1, 500),\n",
    "                random.randint(1, 150),\n",
    "                fake.date_time_this_year(),\n",
    "                fake.date_time_this_year(),\n",
    "                random.choice(['Pending', 'Delivered', 'Cancelled']),\n",
    "                round(random.uniform(20, 10000), 2),\n",
    "                random.choice(['Credit or Debit Card', 'Cash', 'UPI', 'Wallet']),\n",
    "                round(random.uniform(0, 40), 2),\n",
    "                round(random.uniform(1, 5), 1))\n",
    "))\n",
    "IO = \"INSERT INTO Orders (customer_id, restaurant_id, order_date, delivery_time, status, total_amount, payment_mode, discount_applied, feedback_rating) VALUES (%s, %s, %s, %s, %s, %s, %s, %s, %s)\"\n",
    "db_obj.insert_list_of_tuple(IO, Order_table)"
   ]
  },
  {
   "cell_type": "markdown",
   "metadata": {},
   "source": [
    "Creation of DeliveryPersons Table"
   ]
  },
  {
   "cell_type": "code",
   "execution_count": 17,
   "metadata": {},
   "outputs": [
    {
     "name": "stdout",
     "output_type": "stream",
     "text": [
      "table creation successful\n"
     ]
    }
   ],
   "source": [
    "Deliverypersons = \"\"\"\n",
    "            CREATE TABLE IF NOT EXISTS DeliveryPersons (\n",
    "                delivery_person_id INT AUTO_INCREMENT PRIMARY KEY,\n",
    "                name VARCHAR(255),\n",
    "                contact_number VARCHAR(20),\n",
    "                vehicle_type VARCHAR(50),\n",
    "                total_deliveries INT,\n",
    "                average_rating FLOAT,\n",
    "                location VARCHAR(255)\n",
    "            )\n",
    "            \"\"\"\n",
    "db_obj.create_table(Deliverypersons)"
   ]
  },
  {
   "cell_type": "markdown",
   "metadata": {},
   "source": [
    "Insertion of Values into DeliveryPersons Table"
   ]
  },
  {
   "cell_type": "code",
   "execution_count": 18,
   "metadata": {},
   "outputs": [
    {
     "name": "stdout",
     "output_type": "stream",
     "text": [
      "insertion successful\n"
     ]
    }
   ],
   "source": [
    "Deli_persons_table = []\n",
    "for i in range(600):\n",
    "  Deli_persons_table.append(((\n",
    "                fake.name(),\n",
    "                fake.phone_number(),\n",
    "                random.choice(['Bike', 'Car']),\n",
    "                random.randint(0,300),\n",
    "                round(random.uniform(1, 5), 1),\n",
    "                fake.city()\n",
    "            )\n",
    "  ))\n",
    "IP = \"INSERT INTO DeliveryPersons (name, contact_number, vehicle_type, total_deliveries, average_rating, location) VALUES (%s, %s, %s, %s, %s, %s)\"\n",
    "db_obj.insert_list_of_tuple(IP, Deli_persons_table)"
   ]
  },
  {
   "cell_type": "markdown",
   "metadata": {},
   "source": [
    "Creation of Deliveries Table"
   ]
  },
  {
   "cell_type": "code",
   "execution_count": 19,
   "metadata": {},
   "outputs": [
    {
     "name": "stdout",
     "output_type": "stream",
     "text": [
      "table creation successful\n"
     ]
    }
   ],
   "source": [
    "Delivery = \"\"\" CREATE TABLE IF NOT EXISTS Deliveries (\n",
    "                delivery_id INT AUTO_INCREMENT PRIMARY KEY,\n",
    "                order_id INT,\n",
    "                delivery_person_id INT,\n",
    "                delivery_status VARCHAR(50),\n",
    "                distance FLOAT,\n",
    "                delivery_time INT,\n",
    "                estimated_time INT,\n",
    "                delivery_fee FLOAT,\n",
    "                vehicle_type VARCHAR(50),\n",
    "                FOREIGN KEY (order_id) REFERENCES Orders(order_id),\n",
    "                FOREIGN KEY (delivery_person_id) REFERENCES DeliveryPersons(delivery_person_id)\n",
    "            ) \"\"\"\n",
    "\n",
    "db_obj.create_table(Delivery)"
   ]
  },
  {
   "cell_type": "markdown",
   "metadata": {},
   "source": [
    "Insertion of Values into Deliveries Table"
   ]
  },
  {
   "cell_type": "code",
   "execution_count": 20,
   "metadata": {},
   "outputs": [
    {
     "name": "stdout",
     "output_type": "stream",
     "text": [
      "insertion successful\n"
     ]
    }
   ],
   "source": [
    "Delivery_table = []\n",
    "for i in range(600):\n",
    "  Delivery_table.append(((\n",
    "                random.randint(1, 200),\n",
    "                random.randint(1, 20),\n",
    "                random.choice(['On the way', 'Delivered']),\n",
    "                round(random.uniform(1, 25), 2),\n",
    "                random.randint(10, 90),\n",
    "                random.randint(10, 90),\n",
    "                round(random.uniform(2, 30), 2),\n",
    "                random.choice(['Bike', 'Car']),\n",
    "            )\n",
    "  ))\n",
    "ID = \"INSERT INTO Deliveries (order_id, delivery_person_id, delivery_status, distance, delivery_time, estimated_time, delivery_fee, vehicle_type) VALUES (%s, %s, %s, %s, %s, %s, %s, %s)\"  \n",
    "db_obj.insert_list_of_tuple(ID, Delivery_table)"
   ]
  }
 ],
 "metadata": {
  "kernelspec": {
   "display_name": "Python 3",
   "language": "python",
   "name": "python3"
  },
  "language_info": {
   "codemirror_mode": {
    "name": "ipython",
    "version": 3
   },
   "file_extension": ".py",
   "mimetype": "text/x-python",
   "name": "python",
   "nbconvert_exporter": "python",
   "pygments_lexer": "ipython3",
   "version": "3.11.9"
  }
 },
 "nbformat": 4,
 "nbformat_minor": 2
}
